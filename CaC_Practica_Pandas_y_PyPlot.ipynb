{
  "nbformat": 4,
  "nbformat_minor": 0,
  "metadata": {
    "colab": {
      "private_outputs": true,
      "provenance": [],
      "include_colab_link": true
    },
    "kernelspec": {
      "name": "python3",
      "display_name": "Python 3"
    },
    "language_info": {
      "name": "python"
    }
  },
  "cells": [
    {
      "cell_type": "markdown",
      "metadata": {
        "id": "view-in-github",
        "colab_type": "text"
      },
      "source": [
        "<a href=\"https://colab.research.google.com/github/PamelaMorsentti/PamelaMorsentti/blob/main/CaC_Practica_Pandas_y_PyPlot.ipynb\" target=\"_parent\"><img src=\"https://colab.research.google.com/assets/colab-badge.svg\" alt=\"Open In Colab\"/></a>"
      ]
    },
    {
      "cell_type": "markdown",
      "source": [
        "# CaC - Practica Pandas y PyPlot\n",
        "Mediante el formulario [Programando por un Sueño](https://forms.gle/CqKQScgSoUi6EkKm8) estuvimos encuestando votos y calificaciones para las actuaciones de los personajes de la pelicula \"Sing\".\n",
        "\n",
        "Este formulario almacena los datos de la encuesta en la hoja ***Votacion*** de la planilla de calculo de Google [Programando por un Sueño (respuestas)](https://docs.google.com/spreadsheets/d/1ny8dP2nK_i5cmXn5Xr-l16PYntD9AaElml1R9zGnmEU)\n"
      ],
      "metadata": {
        "id": "XjTX_hJCumCd"
      }
    },
    {
      "cell_type": "markdown",
      "source": [
        "## Importacion de datos desde la planilla de la encuesta\n",
        "- Usamos el modulo Pandas y sus Dataframes\n",
        "- Para leer la planilla gsheet de la encuesta la vamos a considerar un archivo CSV (valores separados por comas).\n",
        "- Para formar la URL de lectura usamos el ***id de la planilla*** y el ***nombre de la hoja***"
      ],
      "metadata": {
        "id": "AtdsIqat8eGz"
      }
    },
    {
      "cell_type": "code",
      "execution_count": null,
      "metadata": {
        "id": "rFxm2Xw2vmUy"
      },
      "outputs": [],
      "source": [
        "import pandas as pd\n",
        "\n",
        "id_planilla = '1ny8dP2nK_i5cmXn5Xr-l16PYntD9AaElml1R9zGnmEU'\n",
        "nombre_hoja = 'Votacion'\n",
        "url = f'https://docs.google.com/spreadsheets/d/{id_planilla}/gviz/tq?tqx=out:csv&sheet={nombre_hoja}'\n",
        "\n",
        "encuesta = pd.read_csv(url) # Leemos los datos de la planilla en un Dataframe\n",
        "\n",
        "encuesta.tail() # Mostramos las ultimas 5 entradas del Dataframe"
      ]
    },
    {
      "cell_type": "markdown",
      "source": [
        "## 1º estadistica: ***Ranking de personajes por cantidad de votos***\n",
        "Para eso vamos a contar los votos de cada personaje.\n",
        "- Primero agrupamos los votos por Personaje y los contamos\n",
        "- Luego ordenamos los totales de la Serie `votos` en forma descendente (para hacer un ranking)\n",
        "- Finalmente mostramos el resultado"
      ],
      "metadata": {
        "id": "buw1dq1X8glk"
      }
    },
    {
      "cell_type": "code",
      "source": [
        "votos = encuesta.groupby('Personaje').Personaje.count().copy()\n",
        "votos.sort_values(ascending=False, inplace=True)\n",
        "print(votos.to_markdown())"
      ],
      "metadata": {
        "id": "L-jgy43Z9f7K"
      },
      "execution_count": null,
      "outputs": []
    },
    {
      "cell_type": "markdown",
      "source": [
        "### Grafico del ***Ranking de personajes por cantidad de votos***\n",
        "- Usamos la libreria ***pyplot*** del modulo ***matplotlib*** para hacer graficos de barras.\n",
        "- Definimos el tamaño del grafico\n",
        "- Le ponemos un titulo al grafico\n",
        "- Graficamos las barras\n",
        "- Escribimos los datos sobre las barras\n",
        "- Le ponemos una etiqueta al eje vertical\n",
        "- Mostramos el grafico"
      ],
      "metadata": {
        "id": "6duUmXdYyOBW"
      }
    },
    {
      "cell_type": "code",
      "source": [
        "import matplotlib.pyplot as plt\n",
        "fig, gra = plt.subplots(figsize=(4,3)) # Devuelve una tupla (figura, (grafico0, grafico1, ...))\n",
        "gra.set_title('Ranking de personajes por cantidad de votos')\n",
        "gra.bar(votos.index, votos.values, width=0.8, color='green')\n",
        "gra.bar_label(gra.containers[0], label_type='center')\n",
        "gra.set_ylabel('Votos')\n",
        "\n",
        "# plt.savefig('/content/figs/ranking_votos.png')\n",
        "plt.show()\n"
      ],
      "metadata": {
        "id": "6fL2GnJ3xSKl"
      },
      "execution_count": null,
      "outputs": []
    },
    {
      "cell_type": "markdown",
      "source": [
        "## 2º estadistica: ***Ranking de personajes por promedio de puntos***\n",
        "Para eso vamos a promediar los puntajes de cada personaje.\n",
        "- Primero agrupamos los puntajes por Personaje y los promediamos para cada categoria (este Dataframe nos va a servir para varias estadisticas)\n",
        "- Mostramos el Dataframe `puntos`\n",
        "- Luego hacemos el promedio por Personaje (filas) y obtenemos el promedio total de cada uno.\n",
        "- Luego ordenamos los totales en forma descendente (para hacer un ranking)\n",
        "- Mostramos la Serie de promedios de los Personajes `puntos_personajes`"
      ],
      "metadata": {
        "id": "MYOt9EE90g2V"
      }
    },
    {
      "cell_type": "code",
      "source": [
        "puntos = encuesta.groupby('Personaje').mean(numeric_only=True).copy()\n",
        "print(puntos.to_markdown())\n",
        "print()\n",
        "\n",
        "puntos_personajes = puntos.mean(axis=1).copy()\n",
        "puntos_personajes.sort_values(ascending=False, inplace=True)\n",
        "print(puntos_personajes.to_markdown())\n"
      ],
      "metadata": {
        "id": "Sz8hHsWRKFKB"
      },
      "execution_count": null,
      "outputs": []
    },
    {
      "cell_type": "markdown",
      "source": [
        "### Grafico del ***Ranking de personajes por promedio de puntos***\n",
        "- Usamos la libreria ***pyplot*** del modulo ***matplotlib*** para hacer graficos de barras.\n",
        "- Definimos el tamaño del grafico\n",
        "- Le ponemos un titulo al grafico\n",
        "- Graficamos las barras\n",
        "- Escribimos los datos sobre las barras\n",
        "- Le ponemos una etiqueta al eje vertical\n",
        "- Mostramos el grafico"
      ],
      "metadata": {
        "id": "5T8p_Btb1jrA"
      }
    },
    {
      "cell_type": "code",
      "source": [
        "fig, gra = plt.subplots(figsize=(4,3)) # Devuelve una tupla (figura, (grafico0, grafico1, ...))\n",
        "gra.set_title('Ranking de personajes por promedio de puntos')\n",
        "gra.bar(puntos_personajes.index, puntos_personajes.values, width=0.8, color='darkorange')\n",
        "gra.set_ylabel('Puntos')\n",
        "gra.bar_label(gra.containers[0], label_type='center', fmt='%0.2f')\n",
        "\n",
        "plt.show()\n"
      ],
      "metadata": {
        "id": "MAICPwjH3CHo"
      },
      "execution_count": null,
      "outputs": []
    },
    {
      "cell_type": "markdown",
      "source": [
        "## 3º estadistica: ***Ranking de categorias por promedio de puntos***\n",
        "Para eso vamos a promediar los puntajes de cada categoria.\n",
        "- Mostramos el Dataframe `puntos` (obtenido en el punto anterior)\n",
        "- Luego hacemos el promedio por Categoria (columnas) y obtenemos el promedio total de cada una\n",
        "- Luego ordenamos los totales en forma descendente (para hacer un ranking)\n",
        "- Mostramos la Serie de promedios de las Categoriass `puntos_categorias`"
      ],
      "metadata": {
        "id": "XKbGhge35qph"
      }
    },
    {
      "cell_type": "code",
      "source": [
        "print(puntos.to_markdown())\n",
        "print()\n",
        "\n",
        "puntos_categorias = puntos.mean(axis=0).copy()\n",
        "puntos_categorias.sort_values(ascending=False, inplace=True)\n",
        "print(puntos_categorias.to_markdown())"
      ],
      "metadata": {
        "id": "NEujkKkKtmiz"
      },
      "execution_count": null,
      "outputs": []
    },
    {
      "cell_type": "markdown",
      "source": [
        "### Grafico del ***Ranking de categorias por promedio de puntos***\n",
        "- Usamos la libreria ***pyplot*** del modulo ***matplotlib*** para hacer graficos de barras.\n",
        "- Definimos el tamaño del grafico\n",
        "- Le ponemos un titulo al grafico\n",
        "- Graficamos las barras\n",
        "- Escribimos los datos sobre las barras\n",
        "- Modificamos el angulo de las categorias horizontales a 45º\n",
        "- Le ponemos una etiqueta al eje vertical\n",
        "- Mostramos el grafico"
      ],
      "metadata": {
        "id": "YTzVVtho7Mm6"
      }
    },
    {
      "cell_type": "code",
      "source": [
        "fig, gra = plt.subplots(figsize=(4,3)) # Devuelve una tupla (figura, (grafico0, grafico1, ...))\n",
        "gra.set_title('Ranking de categorias por promedio de puntos')\n",
        "gra.bar(puntos_categorias.index, puntos_categorias.values, width=0.8, color='blue')\n",
        "gra.set_ylabel('Puntos')\n",
        "gra.bar_label(gra.containers[0], label_type='center', fmt='%0.2f',c='white')\n",
        "\n",
        "plt.show()\n"
      ],
      "metadata": {
        "id": "0fyXzHLc7N1I"
      },
      "execution_count": null,
      "outputs": []
    },
    {
      "cell_type": "markdown",
      "source": [
        "## 4º estadistica: ***Ranking de personajes por categoria***\n",
        "Vamos a hacer un ranking por cada Categoria (en total 5) usando los datos del Dataframe `puntos`.\n",
        "\n",
        "Como se trata de 5 graficos practicamente identicos (solo cambia la categoria), vamos a usar un bucle `for` para ahorrar codigo.\n"
      ],
      "metadata": {
        "id": "UBOxw3Yx8mpF"
      }
    },
    {
      "cell_type": "markdown",
      "source": [
        "### Grafico del ***Ranking de personajes por categoria***\n",
        "- Mostramos el Dataframe `puntos` (obtenido en el punto anterior)\n",
        "- Usamos la libreria ***pyplot*** del modulo ***matplotlib*** para hacer graficos de barras.\n",
        "- Definimos el tamaño del grafico (esta vez se trata de un arreglo de 5 graficos)\n",
        "- Usando un bucle `for` para iterar el Dataframe `puntos` (usamos enumerate para obtener indice y categoria):\n",
        "  - Le ponemos un titulo a cada grafico\n",
        "  - Extraemos los promedios de cada Categoria en una Serie, los ordenamos descendentes y los guardamos en `serie`\n",
        "  - Configuramos limite del eje `y` en 5.2 para cada grafico\n",
        "  - Graficamos las barras de cada grafico\n",
        "  - Escribimos los datos sobre las barras\n",
        "  - Modificamos el angulo de las categorias horizontales a 90º\n",
        "- Le ponemos una etiqueta al eje vertical (el mismo para todos los graficos)\n",
        "- Mostramos el grafico"
      ],
      "metadata": {
        "id": "_X7bnin1-EOk"
      }
    },
    {
      "cell_type": "code",
      "source": [
        "print(puntos.to_markdown())\n",
        "print()\n",
        "\n",
        "fig, (gra) = plt.subplots(1,5,figsize=(15,3))\n",
        "\n",
        "for i,cat in enumerate(puntos.columns):\n",
        "  gra[i].set_title(cat)\n",
        "  gra[i].set_ylim(0,5.2)\n",
        "  serie = puntos[cat].sort_values(ascending=False).copy()\n",
        "  gra[i].bar(serie.index, serie.values, color='darkred')\n",
        "  gra[i].set_xticklabels(serie.index,rotation=90)\n",
        "  gra[i].bar_label(gra[i].containers[0], label_type='center', fmt='%0.2f',c='white')\n",
        "\n",
        "gra[0].set_ylabel('Puntos')\n",
        "fig.suptitle('Ranking de personajes por categoria', y=1.1, size=16, weight='bold')\n",
        "\n",
        "plt.show()"
      ],
      "metadata": {
        "id": "OUZRFlwiFOfK"
      },
      "execution_count": null,
      "outputs": []
    },
    {
      "cell_type": "markdown",
      "source": [
        "## ¿Te animas a obtener los ***rankings de categorias por personaje***?\n",
        "Deberias lograr 5 graficos, uno por cada personaje mostrando sus 5 promedios."
      ],
      "metadata": {
        "id": "LJO43bOkCveV"
      }
    },
    {
      "cell_type": "code",
      "source": [
        "# Tu codigo aca"
      ],
      "metadata": {
        "id": "ZEQAiKu7CxGc"
      },
      "execution_count": null,
      "outputs": []
    }
  ]
}